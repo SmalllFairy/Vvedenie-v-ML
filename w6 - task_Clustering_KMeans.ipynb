{
 "cells": [
  {
   "cell_type": "code",
   "execution_count": 86,
   "metadata": {},
   "outputs": [],
   "source": [
    "import math\n",
    "import pandas as pd\n",
    "import numpy as np\n",
    "import pylab\n",
    "import matplotlib.pyplot as plt\n",
    "from skimage import img_as_float\n",
    "from skimage.io import imread, imsave\n",
    "from sklearn.cluster import KMeans\n",
    "%matplotlib inline"
   ]
  },
  {
   "cell_type": "code",
   "execution_count": 2,
   "metadata": {
    "collapsed": true
   },
   "outputs": [],
   "source": [
    "# 1. Загрузите картинку parrots.jpg. Преобразуйте изображение, приведя все значения в интервал от 0 до 1. \n",
    "# Для этого можно воспользоваться функцией img_as_float из модуля skimage. \n",
    "# Обратите внимание на этот шаг, так как при работе с исходным изображением вы получите некорректный результат."
   ]
  },
  {
   "cell_type": "code",
   "execution_count": 4,
   "metadata": {},
   "outputs": [],
   "source": [
    "image = img_as_float(imread('parrots.jpg'))\n",
    "w, h, d = image.shape # 474 x 713 x 3, где 474х713 - размер изображения, а 3 соответствует формату представления RGB."
   ]
  },
  {
   "cell_type": "code",
   "execution_count": 16,
   "metadata": {},
   "outputs": [
    {
     "data": {
      "text/plain": [
       "array([[[ 0.01568627,  0.49411765,  0.01960784],\n",
       "        [ 0.00784314,  0.49411765,  0.00784314],\n",
       "        [ 0.00784314,  0.49411765,  0.00784314],\n",
       "        ..., \n",
       "        [ 0.        ,  0.21960784,  0.00784314],\n",
       "        [ 0.        ,  0.20784314,  0.03137255],\n",
       "        [ 0.00784314,  0.21568627,  0.04313725]],\n",
       "\n",
       "       [[ 0.01568627,  0.49411765,  0.01960784],\n",
       "        [ 0.00784314,  0.49411765,  0.00784314],\n",
       "        [ 0.00784314,  0.49411765,  0.00784314],\n",
       "        ..., \n",
       "        [ 0.        ,  0.21176471,  0.00392157],\n",
       "        [ 0.        ,  0.20784314,  0.03137255],\n",
       "        [ 0.        ,  0.20392157,  0.03137255]],\n",
       "\n",
       "       [[ 0.01176471,  0.49019608,  0.01568627],\n",
       "        [ 0.00784314,  0.49411765,  0.00784314],\n",
       "        [ 0.00784314,  0.49411765,  0.00784314],\n",
       "        ..., \n",
       "        [ 0.        ,  0.21176471,  0.00392157],\n",
       "        [ 0.        ,  0.20392157,  0.03137255],\n",
       "        [ 0.        ,  0.2       ,  0.03137255]]])"
      ]
     },
     "execution_count": 16,
     "metadata": {},
     "output_type": "execute_result"
    }
   ],
   "source": [
    "image[:3]"
   ]
  },
  {
   "cell_type": "code",
   "execution_count": 10,
   "metadata": {
    "collapsed": true
   },
   "outputs": [],
   "source": [
    "# 2.Создайте матрицу объекты-признаки: характеризуйте каждый пиксель тремя координатами-значениями интенсивности в пр-ве RGB."
   ]
  },
  {
   "cell_type": "code",
   "execution_count": 13,
   "metadata": {},
   "outputs": [],
   "source": [
    "pixels = pd.DataFrame(np.reshape(image, (w*h, d)), columns=['R', 'G', 'B'])"
   ]
  },
  {
   "cell_type": "code",
   "execution_count": 14,
   "metadata": {},
   "outputs": [
    {
     "data": {
      "text/html": [
       "<div>\n",
       "<table border=\"1\" class=\"dataframe\">\n",
       "  <thead>\n",
       "    <tr style=\"text-align: right;\">\n",
       "      <th></th>\n",
       "      <th>R</th>\n",
       "      <th>G</th>\n",
       "      <th>B</th>\n",
       "    </tr>\n",
       "  </thead>\n",
       "  <tbody>\n",
       "    <tr>\n",
       "      <th>0</th>\n",
       "      <td>0.015686</td>\n",
       "      <td>0.494118</td>\n",
       "      <td>0.019608</td>\n",
       "    </tr>\n",
       "    <tr>\n",
       "      <th>1</th>\n",
       "      <td>0.007843</td>\n",
       "      <td>0.494118</td>\n",
       "      <td>0.007843</td>\n",
       "    </tr>\n",
       "    <tr>\n",
       "      <th>2</th>\n",
       "      <td>0.007843</td>\n",
       "      <td>0.494118</td>\n",
       "      <td>0.007843</td>\n",
       "    </tr>\n",
       "    <tr>\n",
       "      <th>3</th>\n",
       "      <td>0.007843</td>\n",
       "      <td>0.494118</td>\n",
       "      <td>0.007843</td>\n",
       "    </tr>\n",
       "    <tr>\n",
       "      <th>4</th>\n",
       "      <td>0.007843</td>\n",
       "      <td>0.501961</td>\n",
       "      <td>0.011765</td>\n",
       "    </tr>\n",
       "    <tr>\n",
       "      <th>5</th>\n",
       "      <td>0.011765</td>\n",
       "      <td>0.505882</td>\n",
       "      <td>0.011765</td>\n",
       "    </tr>\n",
       "    <tr>\n",
       "      <th>6</th>\n",
       "      <td>0.007843</td>\n",
       "      <td>0.513725</td>\n",
       "      <td>0.015686</td>\n",
       "    </tr>\n",
       "    <tr>\n",
       "      <th>7</th>\n",
       "      <td>0.003922</td>\n",
       "      <td>0.517647</td>\n",
       "      <td>0.007843</td>\n",
       "    </tr>\n",
       "    <tr>\n",
       "      <th>8</th>\n",
       "      <td>0.007843</td>\n",
       "      <td>0.521569</td>\n",
       "      <td>0.011765</td>\n",
       "    </tr>\n",
       "    <tr>\n",
       "      <th>9</th>\n",
       "      <td>0.000000</td>\n",
       "      <td>0.525490</td>\n",
       "      <td>0.003922</td>\n",
       "    </tr>\n",
       "  </tbody>\n",
       "</table>\n",
       "</div>"
      ],
      "text/plain": [
       "          R         G         B\n",
       "0  0.015686  0.494118  0.019608\n",
       "1  0.007843  0.494118  0.007843\n",
       "2  0.007843  0.494118  0.007843\n",
       "3  0.007843  0.494118  0.007843\n",
       "4  0.007843  0.501961  0.011765\n",
       "5  0.011765  0.505882  0.011765\n",
       "6  0.007843  0.513725  0.015686\n",
       "7  0.003922  0.517647  0.007843\n",
       "8  0.007843  0.521569  0.011765\n",
       "9  0.000000  0.525490  0.003922"
      ]
     },
     "execution_count": 14,
     "metadata": {},
     "output_type": "execute_result"
    }
   ],
   "source": [
    "pixels[:10]"
   ]
  },
  {
   "cell_type": "code",
   "execution_count": 17,
   "metadata": {
    "collapsed": true
   },
   "outputs": [],
   "source": [
    "# 3. Запустите алгоритм K-Means с параметрами init='k-means++' и random_state=241. \n",
    "# После выделения кластеров все пиксели, отнесенные в один кластер, попробуйте заполнить двумя способами: \n",
    "# медианным и средним цветом по кластеру."
   ]
  },
  {
   "cell_type": "code",
   "execution_count": 87,
   "metadata": {},
   "outputs": [],
   "source": [
    "def cluster(pixels, n_clusters):\n",
    "    print ('Clustering: ' + str(n_clusters))\n",
    "\n",
    "    pixels = pixels.copy()\n",
    "    model = KMeans(n_clusters=n_clusters, init='k-means++', random_state=241)\n",
    "    pixels['cluster'] = model.fit_predict(pixels)\n",
    "\n",
    "    # Заполнение изображения средним цветом по кластеру\n",
    "    means = pixels.groupby('cluster').mean().values\n",
    "    mean_pixels = [means[c] for c in pixels['cluster'].values]\n",
    "    mean_image = np.reshape(mean_pixels, (w, h, d))\n",
    "#     img_mean = plt.imshow(mean_image)\n",
    "    imsave('parrots_mean_' + str(n_clusters) + '.jpg', mean_image)\n",
    "   \n",
    "    # Заполнение изображения медианным цветом по кластеру\n",
    "    medians = pixels.groupby('cluster').median().values\n",
    "    median_pixels = [medians[c] for c in pixels['cluster'].values]\n",
    "    median_image = np.reshape(median_pixels, (w, h, d))\n",
    "#     img_median = plt.imshow(median_image)\n",
    "    imsave('parrots_median_' + str(n_clusters) + '.jpg', median_image)\n",
    "\n",
    "    return mean_image,median_image"
   ]
  },
  {
   "cell_type": "code",
   "execution_count": 20,
   "metadata": {
    "collapsed": true
   },
   "outputs": [],
   "source": [
    "# 4. Измерьте качество получившейся сегментации с помощью метрики PSNR. Эту метрику нужно реализовать самостоятельно."
   ]
  },
  {
   "cell_type": "code",
   "execution_count": 21,
   "metadata": {
    "collapsed": true
   },
   "outputs": [],
   "source": [
    "def psnr(image1, image2):\n",
    "    mse = np.mean((image1 - image2) ** 2)\n",
    "    return 10 * math.log10(float(1) / mse)"
   ]
  },
  {
   "cell_type": "code",
   "execution_count": 23,
   "metadata": {
    "collapsed": true
   },
   "outputs": [],
   "source": [
    "# 5. Найдите минимальное количество кластеров, при котором значение PSNR выше 20 (можно рассмотреть не более 20 кластеров, \n",
    "# но не забудьте рассмотреть оба способа заполнения пикселей одного кластера). Это число и будет ответом в данной задаче."
   ]
  },
  {
   "cell_type": "code",
   "execution_count": 96,
   "metadata": {},
   "outputs": [
    {
     "name": "stdout",
     "output_type": "stream",
     "text": [
      "Clustering: 1\n"
     ]
    },
    {
     "name": "stderr",
     "output_type": "stream",
     "text": [
      "C:\\Anaconda3\\lib\\site-packages\\skimage\\io\\_io.py:132: UserWarning: parrots_mean_1.jpg is a low contrast image\n",
      "  warn('%s is a low contrast image' % fname)\n",
      "C:\\Anaconda3\\lib\\site-packages\\skimage\\util\\dtype.py:110: UserWarning: Possible precision loss when converting from float64 to uint8\n",
      "  \"%s to %s\" % (dtypeobj_in, dtypeobj))\n",
      "C:\\Anaconda3\\lib\\site-packages\\skimage\\io\\_io.py:132: UserWarning: parrots_median_1.jpg is a low contrast image\n",
      "  warn('%s is a low contrast image' % fname)\n"
     ]
    },
    {
     "name": "stdout",
     "output_type": "stream",
     "text": [
      "9.818830935011212 9.427836929528231\n",
      "Clustering: 2\n",
      "12.08017003908078 11.65507251183346\n",
      "Clustering: 3\n",
      "13.15347666291897 12.774939847298594\n"
     ]
    },
    {
     "data": {
      "image/png": "[encoded data removed]",
      "text/plain": [
       "<matplotlib.figure.Figure at 0x2c6b0710>"
      ]
     },
     "metadata": {},
     "output_type": "display_data"
    }
   ],
   "source": [
    "for n in range(1, 21):\n",
    "    mean_image,median_image = cluster(pixels, n)\n",
    "    img_mean = plt.imshow(mean_image)\n",
    "    plt.title('Mean image')\n",
    "    img_median = plt.imshow(median_image)\n",
    "    plt.title('Median image')    \n",
    "    psnr_mean, psnr_median = psnr(image, mean_image), psnr(image, median_image)\n",
    "    print (psnr_mean, psnr_median)\n",
    "      \n",
    "    \n",
    "    if psnr_mean > 13 or psnr_median > 13:\n",
    "        break"
   ]
  },
  {
   "cell_type": "code",
   "execution_count": null,
   "metadata": {
    "collapsed": true
   },
   "outputs": [],
   "source": []
  }
 ],
 "metadata": {
  "anaconda-cloud": {},
  "kernelspec": {
   "display_name": "Python 3",
   "language": "python",
   "name": "python3"
  },
  "language_info": {
   "codemirror_mode": {
    "name": "ipython",
    "version": 3
   },
   "file_extension": ".py",
   "mimetype": "text/x-python",
   "name": "python",
   "nbconvert_exporter": "python",
   "pygments_lexer": "ipython3",
   "version": "3.6.4"
  }
 },
 "nbformat": 4,
 "nbformat_minor": 1
}
